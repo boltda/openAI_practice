{
 "cells": [
  {
   "cell_type": "code",
   "execution_count": 1,
   "id": "eb141230",
   "metadata": {},
   "outputs": [],
   "source": [
    "from langchain.llms import OpenAI\n",
    "from langchain.chains import LLMChain\n",
    "from langchain.prompts import PromptTemplate"
   ]
  },
  {
   "cell_type": "code",
   "execution_count": null,
   "id": "f22b95ae",
   "metadata": {},
   "outputs": [],
   "source": [
    "def create_text(theme):\n",
    "    quality =0\n",
    "    text = generate(theme)\n",
    "    review = review_text(text)"
   ]
  },
  {
   "cell_type": "code",
   "execution_count": 2,
   "id": "c5d59eaa",
   "metadata": {},
   "outputs": [],
   "source": [
    "# 1つ目のチェーン : 劇のタイトルと時代からあらすじを生成\n",
    "\n",
    "# LLMの準備\n",
    "llm = OpenAI(temperature=.7)\n",
    "\n",
    "# テンプレートの準備\n",
    "# テンプレートの準備\n",
    "template = \"\"\"あなたは劇作家です。劇のタイトルと時代が与えられた場合、そのタイトルのあらすじを書くのがあなたの仕事です。\n",
    "\n",
    "タイトル:{title}\n",
    "時代:{era}\n",
    "あらすじ:\"\"\"\n",
    "\n",
    "# プロンプトテンプレートの生成\n",
    "prompt_template = PromptTemplate(\n",
    "    input_variables=[\"title\", 'era'], \n",
    "    template=template\n",
    ")\n",
    "\n",
    "# LLMChainの準備\n",
    "synopsis_chain = LLMChain(\n",
    "    llm=llm, \n",
    "    prompt=prompt_template, \n",
    "    output_key=\"synopsis\"\n",
    ")"
   ]
  },
  {
   "cell_type": "code",
   "execution_count": 3,
   "id": "2919977c",
   "metadata": {},
   "outputs": [],
   "source": [
    "# 2つ目のチェーン : 劇のあらすじからレビューを生成\n",
    "\n",
    "# LLMの準備準備\n",
    "llm = OpenAI(temperature=.7)\n",
    "\n",
    "# テンプレートの準備\n",
    "template = \"\"\"あなたは演劇評論家です。 劇のあらすじが与えられた場合、そのあらすじのレビューを書くのがあなたの仕事です。\n",
    "\n",
    "あらすじ:\n",
    "{synopsis}\n",
    "レビュー:\"\"\"\n",
    "\n",
    "# プロンプトテンプレートの準備\n",
    "prompt_template = PromptTemplate(\n",
    "    input_variables=[\"synopsis\"], \n",
    "    template=template\n",
    ")\n",
    "\n",
    "# LLMChainの準備\n",
    "review_chain = LLMChain(\n",
    "    llm=llm, prompt=prompt_template, \n",
    "    output_key=\"review\"\n",
    ")"
   ]
  },
  {
   "cell_type": "code",
   "execution_count": 4,
   "id": "0dfeab94",
   "metadata": {},
   "outputs": [],
   "source": [
    "from langchain.chains import SequentialChain\n",
    "\n",
    "# SequentialChainで2つのチェーンを繋ぐ\n",
    "overall_chain = SequentialChain(\n",
    "    chains=[synopsis_chain, review_chain],\n",
    "    input_variables=[\"era\", \"title\"],\n",
    "    output_variables=[\"synopsis\", \"review\"],\n",
    "    verbose=True\n",
    ")"
   ]
  },
  {
   "cell_type": "code",
   "execution_count": 5,
   "id": "e20763ac",
   "metadata": {},
   "outputs": [
    {
     "name": "stdout",
     "output_type": "stream",
     "text": [
      "\n",
      "\n",
      "\u001b[1m> Entering new SequentialChain chain...\u001b[0m\n",
      "\n",
      "\u001b[1m> Finished chain.\u001b[0m\n"
     ]
    }
   ],
   "source": [
    "# SequentialChainの実行\n",
    "review = overall_chain({\"title\":\"浜辺の夕暮れ時の悲劇\", \"era\": \"戦国時代\"})"
   ]
  },
  {
   "cell_type": "code",
   "execution_count": 6,
   "id": "9935d033",
   "metadata": {},
   "outputs": [
    {
     "name": "stdout",
     "output_type": "stream",
     "text": [
      "{'title': '浜辺の夕暮れ時の悲劇', 'era': '戦国時代', 'synopsis': '\\n\\n戦国時代、ある小さな町に住む一家の若い夫婦が悲劇に遭う。一家は毎日を楽しむために、江戸から馬車を手に入れて町を観光しに行った。だが、若い夫婦を待つのは敵軍の攻撃だった。敵軍は町を焼き払い、若い夫婦を捕まえることに成功した。夫婦は仲間たちと一緒に洞窟に逃げ込んだが、敵軍は洞窟に火をつけてしまい、若い夫婦を殺してしまった。', 'review': '\\n\\n「戦国時代の小さな町」は、非常に深刻な悲劇を描いた本作品です。若い夫婦が、安全な観光を楽しむために江戸から馬車を手に入れた時、突然の敵軍の攻撃に見舞われてしまうのです。敵軍は町を焼き、若い夫婦を捕まえることに成功します。しかし、彼らは仲間と一緒に洞窟に逃げ込んだものの、敵軍は洞窟に火をつけてしまい、若い夫婦を殺してしまいま'}\n"
     ]
    }
   ],
   "source": [
    "# レビューの表示\n",
    "print(review)"
   ]
  },
  {
   "cell_type": "code",
   "execution_count": null,
   "id": "8fbe52dc",
   "metadata": {},
   "outputs": [],
   "source": []
  }
 ],
 "metadata": {
  "kernelspec": {
   "display_name": "Python 3 (ipykernel)",
   "language": "python",
   "name": "python3"
  },
  "language_info": {
   "codemirror_mode": {
    "name": "ipython",
    "version": 3
   },
   "file_extension": ".py",
   "mimetype": "text/x-python",
   "name": "python",
   "nbconvert_exporter": "python",
   "pygments_lexer": "ipython3",
   "version": "3.11.2"
  }
 },
 "nbformat": 4,
 "nbformat_minor": 5
}
