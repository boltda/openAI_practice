{
 "cells": [
  {
   "cell_type": "code",
   "execution_count": 1,
   "id": "4aac216f",
   "metadata": {},
   "outputs": [],
   "source": [
    "import openai\n",
    "import os\n",
    "from langchain.llms import OpenAI\n",
    "openai.api_key = os.getenv(\"OPENAI_API_KEY\")\n",
    "# print(os.environ)\n",
    "# print(os.environ[\"OPENAI_API_KEY\"] )\n",
    "# print(openai.api_key)"
   ]
  },
  {
   "cell_type": "code",
   "execution_count": 2,
   "id": "93296e50",
   "metadata": {},
   "outputs": [
    {
     "name": "stdout",
     "output_type": "stream",
     "text": [
      "大谷翔平は、日本のプロ野球選手であり、現在はアメリカのロサンゼルス・エンゼルスに所属しています。ポジションは投手と外野手を兼任しており、二刀流として有名です。\n",
      "\n",
      "1994年7月5日生まれで、滋賀県出身です。高校時代には、甲子園でエースとして活躍し、2012年のドラフト会議で福岡ソフトバンクホークスから指名を受けました。プロ入り後は、主に投手として活躍し、2016年には最多勝を獲得し、リーグ優勝に貢献しました。\n",
      "\n",
      "2017年には、メジャーリーグベースボール（MLB）のロサンゼルス・エンゼルスに移籍し、外野手としても出場しました。2018年には、MLB史上初となる同時期に20本以上の本塁打を放ち、10勝以上を挙げた二刀流選手として、注目を集めました。\n",
      "\n",
      "大谷翔平は、抜群の身体能力と技術を持ち合わせ、球界を代表するスター選手の一人として知られています。\n"
     ]
    }
   ],
   "source": [
    "response = openai.ChatCompletion.create(\n",
    "    model=\"gpt-3.5-turbo\",\n",
    "    messages=[\n",
    "        {\"role\": \"user\", \"content\": \"大谷翔平について教えて\"},\n",
    "    ],\n",
    ")\n",
    "print(response.choices[0][\"message\"][\"content\"].strip())"
   ]
  },
  {
   "cell_type": "code",
   "execution_count": 3,
   "id": "00fb5654",
   "metadata": {},
   "outputs": [
    {
     "name": "stdout",
     "output_type": "stream",
     "text": [
      "\n",
      "\n",
      "『タイトルマジック』\n"
     ]
    }
   ],
   "source": [
    "# モデル名を指定しない場合、「text-davinci-003」が利用されます\n",
    "llm = OpenAI(temperature=0.9)\n",
    "text = \"技術記事のタイトルをよしなに生成してくれるAIの名称を考えてください。\"\n",
    "print(llm(text))"
   ]
  },
  {
   "cell_type": "code",
   "execution_count": 10,
   "id": "92c7b0c4",
   "metadata": {},
   "outputs": [
    {
     "name": "stdout",
     "output_type": "stream",
     "text": [
      "\n",
      "\n",
      "・秒速で最適なテクニカル記事タイトルを自動生成\n",
      "・広範なトピックをサポート\n",
      "・最新のテクノロジーに完全対応\n",
      "・複数のクリエイティブなタイトルを同時生成\n",
      "・タイトルの品質を保証する機能も搭載\n"
     ]
    }
   ],
   "source": [
    "from langchain.prompts import PromptTemplate\n",
    "\n",
    "prompt = PromptTemplate(\n",
    "    input_variables=[\"target\"],\n",
    "    template=\"技術記事のタイトルをよしなに生成してくれるAIの{target}を考えてください。\",\n",
    ")\n",
    "print(llm(prompt=prompt.format(target=\"セールスポイント\")))"
   ]
  },
  {
   "cell_type": "code",
   "execution_count": 12,
   "id": "8a25e400",
   "metadata": {},
   "outputs": [
    {
     "name": "stdout",
     "output_type": "stream",
     "text": [
      "\n",
      "\n",
      "\u001b[1m> Entering new SimpleSequentialChain chain...\u001b[0m\n",
      "\u001b[36;1m\u001b[1;3m\n",
      "\n",
      "1. 通勤用のスマートフォンアプリ: 通勤時間を最適化するための道案内、乗り換え検索、交通情報などの機能を備えたスマートフォンアプリ。\n",
      "\n",
      "2. コミュニケーションツール: 通勤中に他の乗客とコミュニケーションを取るためのツール。チャット機能などを備えている。\n",
      "\n",
      "3. モバイルオフィス: 通勤中に仕事を行うためのモバイルオフィス。パソコンやプリンターなどオフィスに必要な機器を簡単に持ち運\u001b[0m\n",
      "\u001b[33;1m\u001b[1;3m\n",
      "1. 通勤用のスマートフォンアプリ: このアイデアは、乗客がより効率的な通勤を行えるようになることで、便利なサービスとなるだろう。しかし、データ収集を行う際にプライバシー上の問題があることも考慮する必要がある。また、技術的なハードルがあるかもしれない。\n",
      "\n",
      "2. コミュニケーションツール: このツールは、通勤中の乗客が楽しい体験を得られるようになるだろう。しかし、無料のアプリとしての提供が可能かどうかや、\u001b[0m\n",
      "\n",
      "\u001b[1m> Finished chain.\u001b[0m\n"
     ]
    }
   ],
   "source": [
    "from langchain.chains import LLMChain, SimpleSequentialChain\n",
    "\n",
    "llm = OpenAI(temperature=.7)\n",
    "template = \"\"\"あなたは新商品の開発を担当しています。新商品のターゲットが与えられたら、ターゲットに売れる新商品のアイデアを出してください。\n",
    "\n",
    "ターゲット: {target}\n",
    "担当者: 以下が新商品のアイデアです。\"\"\"\n",
    "prompt_template = PromptTemplate(input_variables=[\"target\"], template=template)\n",
    "synopsis_chain = LLMChain(llm=llm, prompt=prompt_template)\n",
    "\n",
    "llm = OpenAI(temperature=.7)\n",
    "template = \"\"\"あなたは経営者です。新商品のアイデアが与えられたら、経営者の観点から批判的にレビューをしてください。\n",
    "\n",
    "アイデア:\n",
    "{idea}\n",
    "経営者：\n",
    "\"\"\"\n",
    "prompt_template = PromptTemplate(input_variables=[\"idea\"], template=template)\n",
    "review_chain = LLMChain(llm=llm, prompt=prompt_template)\n",
    "\n",
    "overall_chain = SimpleSequentialChain(chains=[synopsis_chain, review_chain], verbose=True)\n",
    "review = overall_chain.run(\"通勤に1時間以上かかっている20代の男性\")"
   ]
  },
  {
   "cell_type": "code",
   "execution_count": 4,
   "id": "fc4fbafb",
   "metadata": {},
   "outputs": [
    {
     "name": "stdout",
     "output_type": "stream",
     "text": [
      "\n",
      "\n",
      "\u001b[1m> Entering new AgentExecutor chain...\u001b[0m\n",
      "\u001b[32;1m\u001b[1;3m I need to find the height of the highest mountain in Japan and then calculate its fifth root.\n",
      "Action: Search\n",
      "Action Input: \"highest mountain in Japan\"\u001b[0m\n",
      "Observation: \u001b[36;1m\u001b[1;3mMount Fuji\u001b[0m\n",
      "Thought:\u001b[32;1m\u001b[1;3m I need to find the height of Mount Fuji\n",
      "Action: Search\n",
      "Action Input: \"height of Mount Fuji\"\u001b[0m\n",
      "Observation: \u001b[36;1m\u001b[1;3m12,388′\u001b[0m\n",
      "Thought:\u001b[32;1m\u001b[1;3m I need to convert this to meters\n",
      "Action: Calculator\n",
      "Action Input: 12,388 * 0.3048\u001b[0m\n",
      "\n",
      "\u001b[1m> Entering new LLMMathChain chain...\u001b[0m\n",
      "12,388 * 0.3048\u001b[32;1m\u001b[1;3m\n",
      "```python\n",
      "print(12388 * 0.3048)\n",
      "```\n",
      "\u001b[0m\n",
      "Answer: \u001b[33;1m\u001b[1;3m3775.8624\n",
      "\u001b[0m\n",
      "\u001b[1m> Finished chain.\u001b[0m\n",
      "\n",
      "Observation: \u001b[33;1m\u001b[1;3mAnswer: 3775.8624\n",
      "\u001b[0m\n",
      "Thought:\u001b[32;1m\u001b[1;3m I now need to calculate the fifth root of this number\n",
      "Action: Calculator\n",
      "Action Input: 3775.8624^(1/5)\u001b[0m\n",
      "\n",
      "\u001b[1m> Entering new LLMMathChain chain...\u001b[0m\n",
      "3775.8624^(1/5)\u001b[32;1m\u001b[1;3m\n",
      "```python\n",
      "print(3775.8624**(1/5))\n",
      "```\n",
      "\u001b[0m\n",
      "Answer: \u001b[33;1m\u001b[1;3m5.1928195584457635\n",
      "\u001b[0m\n",
      "\u001b[1m> Finished chain.\u001b[0m\n",
      "\n",
      "Observation: \u001b[33;1m\u001b[1;3mAnswer: 5.1928195584457635\n",
      "\u001b[0m\n",
      "Thought:\u001b[32;1m\u001b[1;3m I now know the final answer\n",
      "Final Answer: The height of the highest mountain in Japan is 3775.8624 meters and its fifth root is 5.1928195584457635.\u001b[0m\n",
      "\n",
      "\u001b[1m> Finished chain.\u001b[0m\n"
     ]
    },
    {
     "data": {
      "text/plain": [
       "'The height of the highest mountain in Japan is 3775.8624 meters and its fifth root is 5.1928195584457635.'"
      ]
     },
     "execution_count": 4,
     "metadata": {},
     "output_type": "execute_result"
    }
   ],
   "source": [
    "from langchain.agents import initialize_agent, Tool\n",
    "from langchain.llms import OpenAI\n",
    "from langchain import LLMMathChain, SerpAPIWrapper\n",
    "\n",
    "llm = OpenAI(temperature=0)\n",
    "search = SerpAPIWrapper()\n",
    "llm_math_chain = LLMMathChain(llm=llm, verbose=True)\n",
    "tools = [\n",
    "    Tool(\n",
    "        name = \"Search\",\n",
    "        func=search.run,\n",
    "        description=\"useful for when you need to answer questions about current events\"\n",
    "    ),\n",
    "    Tool(\n",
    "        name=\"Calculator\",\n",
    "        func=llm_math_chain.run,\n",
    "        description=\"useful for when you need to answer questions about math\"\n",
    "    )\n",
    "]\n",
    "\n",
    "llm = OpenAI(temperature=0)\n",
    "agent = initialize_agent(tools, llm, agent=\"zero-shot-react-description\", verbose=True)\n",
    "agent.run(\"日本で一番高い山の高さは何メートルですか?その高さの5乗根を求めてください。\")\n",
    "# agent.run(\"韓国の覚えておくべき文化，風習を教えてください\")"
   ]
  },
  {
   "cell_type": "code",
   "execution_count": null,
   "id": "e1eb5ef0",
   "metadata": {},
   "outputs": [],
   "source": []
  }
 ],
 "metadata": {
  "kernelspec": {
   "display_name": "Python 3 (ipykernel)",
   "language": "python",
   "name": "python3"
  },
  "language_info": {
   "codemirror_mode": {
    "name": "ipython",
    "version": 3
   },
   "file_extension": ".py",
   "mimetype": "text/x-python",
   "name": "python",
   "nbconvert_exporter": "python",
   "pygments_lexer": "ipython3",
   "version": "3.11.2"
  }
 },
 "nbformat": 4,
 "nbformat_minor": 5
}
