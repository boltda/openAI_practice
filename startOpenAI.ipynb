{
 "cells": [
  {
   "cell_type": "code",
   "execution_count": 5,
   "id": "4aac216f",
   "metadata": {},
   "outputs": [],
   "source": [
    "import openai\n",
    "import os\n",
    "from langchain.llms import OpenAI\n",
    "openai.api_key = os.getenv(\"OPENAI_API_KEY\")\n",
    "# print(os.environ)\n",
    "# print(os.environ[\"OPENAI_API_KEY\"] )\n",
    "# print(openai.api_key)"
   ]
  },
  {
   "cell_type": "code",
   "execution_count": 2,
   "id": "93296e50",
   "metadata": {},
   "outputs": [
    {
     "name": "stdout",
     "output_type": "stream",
     "text": [
      "いくつかのポイントをまとめると以下のようになります。\n",
      "\n",
      "- 大谷翔平は、日本のプロ野球選手で、現在はアメリカのメジャーリーグベースボール（MLB）のロサンゼルス・エンゼルスに所属しています。\n",
      "- 大谷は、投手としても打者としても活躍することができる「二刀流」として知られており、同時に両方のポジションでメジャーリーグでの活躍を続けています。\n",
      "- 大谷は、2013年にプロ野球選手としてデビューし、その後2017年にアメリカに渡ってメジャーリーグのエンゼルスに入団しました。\n",
      "- 大谷は、2018年には新人王を受賞し、2019年にはオールスターゲームに初出場するなど、その実力が認められています。\n",
      "- 大谷は、投手としては最速101マイルのストレートを投げ、打者としてもパワーと技術を兼ね備えています。\n",
      "- 大谷には、アジアの野球ファンから熱狂的な支持があり、彼の試合は日本、韓国、中国などの国々でも積極的に放送されています。\n"
     ]
    }
   ],
   "source": [
    "response = openai.ChatCompletion.create(\n",
    "    model=\"gpt-3.5-turbo\",\n",
    "    messages=[\n",
    "        {\"role\": \"user\", \"content\": \"大谷翔平について教えて\"},\n",
    "    ],\n",
    ")\n",
    "print(response.choices[0][\"message\"][\"content\"].strip())"
   ]
  },
  {
   "cell_type": "code",
   "execution_count": 8,
   "id": "00fb5654",
   "metadata": {},
   "outputs": [
    {
     "name": "stdout",
     "output_type": "stream",
     "text": [
      "\n",
      "\n",
      "・AI お技タイトルジェネレーター\n"
     ]
    }
   ],
   "source": [
    "# モデル名を指定しない場合、「text-davinci-003」が利用されます\n",
    "llm = OpenAI(temperature=0.9)\n",
    "text = \"技術記事のタイトルをよしなに生成してくれるAIの名称を考えてください。\"\n",
    "print(llm(text))"
   ]
  },
  {
   "cell_type": "code",
   "execution_count": 10,
   "id": "92c7b0c4",
   "metadata": {},
   "outputs": [
    {
     "name": "stdout",
     "output_type": "stream",
     "text": [
      "\n",
      "\n",
      "・秒速で最適なテクニカル記事タイトルを自動生成\n",
      "・広範なトピックをサポート\n",
      "・最新のテクノロジーに完全対応\n",
      "・複数のクリエイティブなタイトルを同時生成\n",
      "・タイトルの品質を保証する機能も搭載\n"
     ]
    }
   ],
   "source": [
    "from langchain.prompts import PromptTemplate\n",
    "\n",
    "prompt = PromptTemplate(\n",
    "    input_variables=[\"target\"],\n",
    "    template=\"技術記事のタイトルをよしなに生成してくれるAIの{target}を考えてください。\",\n",
    ")\n",
    "print(llm(prompt=prompt.format(target=\"セールスポイント\")))"
   ]
  },
  {
   "cell_type": "code",
   "execution_count": 12,
   "id": "8a25e400",
   "metadata": {},
   "outputs": [
    {
     "name": "stdout",
     "output_type": "stream",
     "text": [
      "\n",
      "\n",
      "\u001b[1m> Entering new SimpleSequentialChain chain...\u001b[0m\n",
      "\u001b[36;1m\u001b[1;3m\n",
      "\n",
      "1. 通勤用のスマートフォンアプリ: 通勤時間を最適化するための道案内、乗り換え検索、交通情報などの機能を備えたスマートフォンアプリ。\n",
      "\n",
      "2. コミュニケーションツール: 通勤中に他の乗客とコミュニケーションを取るためのツール。チャット機能などを備えている。\n",
      "\n",
      "3. モバイルオフィス: 通勤中に仕事を行うためのモバイルオフィス。パソコンやプリンターなどオフィスに必要な機器を簡単に持ち運\u001b[0m\n",
      "\u001b[33;1m\u001b[1;3m\n",
      "1. 通勤用のスマートフォンアプリ: このアイデアは、乗客がより効率的な通勤を行えるようになることで、便利なサービスとなるだろう。しかし、データ収集を行う際にプライバシー上の問題があることも考慮する必要がある。また、技術的なハードルがあるかもしれない。\n",
      "\n",
      "2. コミュニケーションツール: このツールは、通勤中の乗客が楽しい体験を得られるようになるだろう。しかし、無料のアプリとしての提供が可能かどうかや、\u001b[0m\n",
      "\n",
      "\u001b[1m> Finished chain.\u001b[0m\n"
     ]
    }
   ],
   "source": [
    "from langchain.chains import LLMChain, SimpleSequentialChain\n",
    "\n",
    "llm = OpenAI(temperature=.7)\n",
    "template = \"\"\"あなたは新商品の開発を担当しています。新商品のターゲットが与えられたら、ターゲットに売れる新商品のアイデアを出してください。\n",
    "\n",
    "ターゲット: {target}\n",
    "担当者: 以下が新商品のアイデアです。\"\"\"\n",
    "prompt_template = PromptTemplate(input_variables=[\"target\"], template=template)\n",
    "synopsis_chain = LLMChain(llm=llm, prompt=prompt_template)\n",
    "\n",
    "llm = OpenAI(temperature=.7)\n",
    "template = \"\"\"あなたは経営者です。新商品のアイデアが与えられたら、経営者の観点から批判的にレビューをしてください。\n",
    "\n",
    "アイデア:\n",
    "{idea}\n",
    "経営者：\n",
    "\"\"\"\n",
    "prompt_template = PromptTemplate(input_variables=[\"idea\"], template=template)\n",
    "review_chain = LLMChain(llm=llm, prompt=prompt_template)\n",
    "\n",
    "overall_chain = SimpleSequentialChain(chains=[synopsis_chain, review_chain], verbose=True)\n",
    "review = overall_chain.run(\"通勤に1時間以上かかっている20代の男性\")"
   ]
  },
  {
   "cell_type": "code",
   "execution_count": 20,
   "id": "fc4fbafb",
   "metadata": {},
   "outputs": [
    {
     "name": "stdout",
     "output_type": "stream",
     "text": [
      "\n",
      "\n",
      "\u001b[1m> Entering new AgentExecutor chain...\u001b[0m\n",
      "\u001b[32;1m\u001b[1;3m I should research what the culture and customs of South Korea are\n",
      "Action: Search\n",
      "Action Input: \"South Korea culture and customs\"\u001b[0m\n",
      "Observation: \u001b[36;1m\u001b[1;3mTaboos in South Korean Culture · Do not wear your shoes in places of worship or peoples' homes · Do not put your feet on furniture · Do not eat or drink in public ...\u001b[0m\n",
      "Thought:\u001b[32;1m\u001b[1;3m I now know the final answer\n",
      "Final Answer: Taboos in South Korean Culture include not wearing shoes in places of worship or peoples' homes, not putting feet on furniture, and not eating or drinking in public.\u001b[0m\n",
      "\n",
      "\u001b[1m> Finished chain.\u001b[0m\n"
     ]
    },
    {
     "data": {
      "text/plain": [
       "\"Taboos in South Korean Culture include not wearing shoes in places of worship or peoples' homes, not putting feet on furniture, and not eating or drinking in public.\""
      ]
     },
     "execution_count": 20,
     "metadata": {},
     "output_type": "execute_result"
    }
   ],
   "source": [
    "from langchain.agents import initialize_agent, Tool\n",
    "from langchain.llms import OpenAI\n",
    "from langchain import LLMMathChain, SerpAPIWrapper\n",
    "\n",
    "llm = OpenAI(temperature=0)\n",
    "search = SerpAPIWrapper(serpapi_api_key='9be46c822744dca7130534a5faaa19be145f821bacf836affdeee4add96c38ae')\n",
    "llm_math_chain = LLMMathChain(llm=llm, verbose=True)\n",
    "tools = [\n",
    "    Tool(\n",
    "        name = \"Search\",\n",
    "        func=search.run,\n",
    "        description=\"useful for when you need to answer questions about current events\"\n",
    "    ),\n",
    "    Tool(\n",
    "        name=\"Calculator\",\n",
    "        func=llm_math_chain.run,\n",
    "        description=\"useful for when you need to answer questions about math\"\n",
    "    )\n",
    "]\n",
    "\n",
    "llm = OpenAI(temperature=0)\n",
    "agent = initialize_agent(tools, llm, agent=\"zero-shot-react-description\", verbose=True)\n",
    "# agent.run(\"日本で一番高い山の高さは何メートルですか?その高さの5乗根を求めてください。\")\n",
    "agent.run(\"韓国の覚えておくべき文化，風習を教えてください\")"
   ]
  },
  {
   "cell_type": "code",
   "execution_count": null,
   "id": "e1eb5ef0",
   "metadata": {},
   "outputs": [],
   "source": []
  }
 ],
 "metadata": {
  "kernelspec": {
   "display_name": "Python 3 (ipykernel)",
   "language": "python",
   "name": "python3"
  },
  "language_info": {
   "codemirror_mode": {
    "name": "ipython",
    "version": 3
   },
   "file_extension": ".py",
   "mimetype": "text/x-python",
   "name": "python",
   "nbconvert_exporter": "python",
   "pygments_lexer": "ipython3",
   "version": "3.11.2"
  }
 },
 "nbformat": 4,
 "nbformat_minor": 5
}
