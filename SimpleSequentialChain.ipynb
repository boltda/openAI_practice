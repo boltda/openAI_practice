{
 "cells": [
  {
   "cell_type": "code",
   "execution_count": 1,
   "id": "972a7b14",
   "metadata": {},
   "outputs": [],
   "source": [
    "from langchain.llms import OpenAI\n",
    "from langchain.chains import LLMChain\n",
    "from langchain.prompts import PromptTemplate"
   ]
  },
  {
   "cell_type": "code",
   "execution_count": 3,
   "id": "11fa319e",
   "metadata": {},
   "outputs": [],
   "source": [
    "# 1つ目のチェーンの準備 : 劇のタイトルからあらすじを生成\n",
    "\n",
    "# LLMの準備\n",
    "llm = OpenAI(temperature=1)\n",
    "\n",
    "# テンプレートの準備\n",
    "template = \"\"\"あなたは{country}出身です。初めてこの国に来る人向けに、この国特有の慣習や常識、文化的タブーをいくつか教えてあげてください。\"\"\"\n",
    "\n",
    "# プロンプトテンプレートの準備\n",
    "prompt_template = PromptTemplate(\n",
    "    input_variables=[\"country\"], \n",
    "    template=template\n",
    ")\n",
    "\n",
    "# LLMChainの準備\n",
    "synopsis_chain = LLMChain(llm=llm, prompt=prompt_template)"
   ]
  },
  {
   "cell_type": "code",
   "execution_count": 4,
   "id": "e331950d",
   "metadata": {},
   "outputs": [],
   "source": [
    "# 2つ目のチェーン : 劇のあらすじからレビューを生成\n",
    "\n",
    "# LLMの準備準備\n",
    "llm = OpenAI(temperature=0)\n",
    "\n",
    "# テンプレートの準備\n",
    "template = \"\"\"あなたもこの国の出身です。慣習を与えられたら間違っていることや追加して言ったほうが良いことがあったら言ってあげてください。\n",
    "\n",
    "慣習:{habit}\n",
    "\"\"\"\n",
    "\n",
    "# プロンプトテンプレートの準備\n",
    "prompt_template = PromptTemplate(\n",
    "    input_variables=[\"habit\"], \n",
    "    template=template\n",
    ")\n",
    "\n",
    "# LLMChainの準備\n",
    "review_chain = LLMChain(llm=llm, prompt=prompt_template)"
   ]
  },
  {
   "cell_type": "code",
   "execution_count": 5,
   "id": "e4a9f3c1",
   "metadata": {},
   "outputs": [],
   "source": [
    "from langchain.chains import SimpleSequentialChain\n",
    "\n",
    "# SimpleSequentialChainで2つのチェーンを繋ぐ\n",
    "overall_chain = SimpleSequentialChain(\n",
    "    chains=[synopsis_chain, review_chain], \n",
    "    verbose=True\n",
    ")"
   ]
  },
  {
   "cell_type": "code",
   "execution_count": 7,
   "id": "826aefb6",
   "metadata": {},
   "outputs": [
    {
     "name": "stdout",
     "output_type": "stream",
     "text": [
      "\n",
      "\n",
      "\u001b[1m> Entering new SimpleSequentialChain chain...\u001b[0m\n",
      "\u001b[36;1m\u001b[1;3m\n",
      "\n",
      "1. 日本の人々はお互いを尊敬し合う重要な文化です。お互いに侮辱はせず、前向きであることを心がけましょう。\n",
      "\n",
      "2. 日本の消毒ルールを守りましょう。訪問者は必ず手を洗ってから食べる前に消毒をしてください。\n",
      "\n",
      "3. 宗教的儀式や習慣は非常に重要な文化的タブーとなっています。無視することを強くお勧めします。\n",
      "\n",
      "4. 日本は食事時間を持ちます。出来る\u001b[0m\n",
      "\u001b[33;1m\u001b[1;3m限り早く食事をして、他の人々を待たせないようにしましょう。\n",
      "\n",
      "追加:\n",
      "5. 日本の文化では、他の人を尊重することが重要です。他の人を侮辱したり、不快な言葉を使うことは禁止されています。\u001b[0m\n",
      "\n",
      "\u001b[1m> Finished chain.\u001b[0m\n"
     ]
    }
   ],
   "source": [
    "# SimpleSequentialChainの実行\n",
    "review = overall_chain.run(\"日本\")"
   ]
  },
  {
   "cell_type": "code",
   "execution_count": null,
   "id": "402d7346",
   "metadata": {},
   "outputs": [],
   "source": []
  }
 ],
 "metadata": {
  "kernelspec": {
   "display_name": "Python 3 (ipykernel)",
   "language": "python",
   "name": "python3"
  },
  "language_info": {
   "codemirror_mode": {
    "name": "ipython",
    "version": 3
   },
   "file_extension": ".py",
   "mimetype": "text/x-python",
   "name": "python",
   "nbconvert_exporter": "python",
   "pygments_lexer": "ipython3",
   "version": "3.11.2"
  }
 },
 "nbformat": 4,
 "nbformat_minor": 5
}
