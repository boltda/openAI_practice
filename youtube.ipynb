{
 "cells": [
  {
   "cell_type": "code",
   "execution_count": 1,
   "id": "ba19a884",
   "metadata": {},
   "outputs": [],
   "source": [
    "import openai\n",
    "from pytube import YouTube"
   ]
  },
  {
   "cell_type": "code",
   "execution_count": 2,
   "id": "4cccb81c",
   "metadata": {},
   "outputs": [
    {
     "data": {
      "text/plain": [
       "'/Users/ma2dayuto/local_document/chillnn/gpt/究極のフィンランド式サウナ ー The Sauna（Eng Sub）.mp4'"
      ]
     },
     "execution_count": 2,
     "metadata": {},
     "output_type": "execute_result"
    }
   ],
   "source": [
    "youtube_url='https://www.youtube.com/watch?v=IayRKe3Yt6o'\n",
    "yt = YouTube(youtube_url)\n",
    "yt.streams.filter(only_audio=True).first().download()"
   ]
  },
  {
   "cell_type": "code",
   "execution_count": 5,
   "id": "e5387ba0",
   "metadata": {},
   "outputs": [],
   "source": [
    "# 音声ファイルを読み込む\n",
    "audio_file = open(\"/Users/ma2dayuto/local_document/chillnn/gpt/新しくリリースされた「GPT-4」がすごいので解説します.mp4\", \"rb\")\n",
    "\n",
    "# OpenAI APIを使用してテキストに変換する\n",
    "transcript = openai.Audio.transcribe(\"whisper-1\", file=audio_file)"
   ]
  },
  {
   "cell_type": "code",
   "execution_count": 6,
   "id": "5d99bb5e",
   "metadata": {},
   "outputs": [
    {
     "name": "stdout",
     "output_type": "stream",
     "text": [
      "ハローユーチューブ今日はですねまた ai に関してね新しい発表がございました a オープン ai がですね gpt 4今まで gpt 3.5ベースのですねチャット gpt がリリースされておりましたけれども チャッ gpt 4 これまでと桁違いにですね学習するためのデータ量 増やしましてですねかなりその まああのいい加減なこととか間違ったこととかを言う確率をですね 激減させたと いうことでですねほんと司法試験とかでもですね通ってしまうぐらいのレベルになってき ているということと もう一つはですねその 我々その一般ユーザーが使えるトークンと言われるですね 簡単に言うとその a の短期帰国ですかね ユーザーごとに割り当てられたメモリーがですね増えて 32型ですね3万に約3万2000文字ぐらいですかね まあそれが使えるようになりましたということで今まで4型までだった4096まで だったのでトークンまでだったのこれがですね a ノーマルモードで8型でアドバンスとモードで32型ということでですね 8倍データが使えるようになってこれはまあうまく割り当てるとですね ちょっとした人間の短期記憶レベルのことはできるようになってですね データ量的に言ってもですね そうですね文庫本で50ページぐらいのデータを一気に入れることができてですね あの 本一冊だったらもう簡単なコマンドでコマンドというか簡単なリクエストで変えて くれるんじゃないかというレベルになっているということ そしてまあマルチモードモーダル化をですね発表してましたけれどもとりあえずまだ 我々一般ユーザーは使えないんですけれども 画像を見せてこの画像がどんな意味を持っているのかそういったところまでわかる ようになっていると 例えばですねまあいろんな例あるんですけれども 例えば iphone にねこの iphone になんか変なケーブルを指して これで間違ってるところは何ですかとライトニングのケーブルじゃないケーブルを 例えば rgb コネクタみたいなビッて指している 画像を出してこれはどこが間違ってますかって書いたら いやーこの rgb ケーブルを iphone に 指しているのがおかしいんですみたいなことが 画像が理解できるだけでなく画像のそのおかしな点の論理的な意味も わかるようになってきて まあそれがちょっと上空っぽいってことまでわかるようになってきたのでそうですねもう多分 知能テストで 120以上はもう行くんじゃないですか iq テストでこれぐらいのレベルであれば あの誤り 訂正問題とかですね並べ替え問題とかそういうの多分 iq テストにいっぱい出てきますけれども iq レベルで本当にあのそれぐらいのレベルになってきたかなっていうのと本当に 誤りがかなり訂正されるようになってきたので これまでねあの子供があの生半可な知識でいい加減なことを言うぐらいの感じのいい加減 さが gpt 3.5ベースのチャット gpt にはありましたけれども それもなくなってきたということで まあかなり使えるようになってきたかなと簡単な例えばそうですね高校 1年とか2年とかぐらいのレベルの数学の 図形問題とかですね 物理とか科学の問題みたいなものも解けるようになってきているということでこれねこの機能 早く試したいですねチャット gpt 4の api ですね プログラムから叩けるような api に関して言うと まあ今ウェイティングリスト募集されているのでウェイトリストに登録しとくと早めに アナウンスされると またこの gpt 4に関してチャットでチャットモードで使うためにはですねちょっと gpt プラス というですね 米国居住のユーザーおよび多分一部のですねウェイティングリストリクエストリストに 登録していた方は月額固定で24ドルでしたかな それぐらいのメニューに入っている方はですねもう今すぐ使えるチャットモードで gpt 4 が使えるということで 早速使ってる人たちいましたけれども我々の音オンラインサロン a ねえちゃいうでもですねこの gpt 周りの話題はめちゃくちゃあのね 話題になっていて教育なんかに使えるんじゃないかと 例えば子供の音幼児の教育とかだったら 例えば英語モードにしたらずっと英語で喋りかけてくれるし 大人と違ってずっとなんでなんで って言っても何にでも答えてくれるということで嫌な顔一つせずにですね答えてくれる 素晴らしい人格になっているのでですね 子供の相手には最適なんですけど日本語を覚えるだけでじゃなくてもですね英語とかドイツ語 とかですねスペイン語とか中国語とかこういったものもですね 勝手に無限に覚えてくれるんじゃないかなということでこれ僕教育にめちゃくちゃ使えるな と思って もう少なくとも小中学校ぐらいまでも行けんじゃないですかね gpt 4で まあこれをですねイヤホンですねこのスマートイヤホンこれこれでね エアポッドみたいなものをずっとつけててここにエアーシスタントいて マルチモーダル化が進むということでこれで ずっとですね gpt 4がですねあの あのアンサーというか会話をしてくれてるっていう状態だと本当僕老人とかもこれつけて たらですねもうグルーズとまあ介護が必要な 認知能力が低下している方だとですねもう全くそこがに誰かがいるんじゃないかずっと 話し相手になってくれるということで逆にボケ防止になるんじゃないかっていうような ことももうこれ今すぐをグッズ 使えるんじゃないかなと思ってますもう このために何か子供を作ってですね a 範囲にずっと教育させるみたいなことだって可能なん じゃないかなと思ってます そんな話をですねあのうちのオンラインサロンの教育事業グループこっちは hiu の方です けどつもた信高さんとが教育にどうやって応用できるんでしょうかみたいな話を ねあの投げかけていてそれで 話をしてたんですけど例えばですね雲は何で白いのっていう a 質問を例えば子供がしたとして大抵の親はうん レッドなんでだっけっていうのとまあわかったとしてもそれを分かりやすく子供に説明する ことってなかなか難しかったと思うんですよね a 水まああの水滴だったりとかもう中には氷結した 水がですねまぁ氷の状態になっているような微粒子がにあの反射をして白く見えるんです みたいな話とか まあそういったのですねあの gpt 3.5のチャット gpt でもつあの答えてはくれるんですけれどもこれを子供に分かりやすく 幼稚園児でわかるようにっていうふうに言ったら3.5の時はですね その意味がわかってなかったのかあまり変異な質問あのこっ回答なかったなってなかったん ですけど4であるとあのすごくわかりやすく 簡単な言葉を使って雲が白い理由を説明してくれたりとかするんで そんな感じになってきているともうそこまで近づいてきているとよくこれは人間の振る舞い を真似しているだけなんじゃないかっていうふうに言ってますけれども我々 そもそも親とか社会にいる大人たちの言動を真似して 覚えていくわけじゃないですか言語 でほとんど多分喋ってる時例えば オチのない女子会みたいな話ってただ言葉のキャッチボールでなんかツボをしを両 両者でツボをしをし合ってるみたいな状態なんでほとんどこれ無意識なんじゃないの ai とかあんないんじゃないのと いう話でこれなんかもうそれこそ みんなの話を円滑にするための ai ボットみたいなものを1個を言って amazon エコーみたいなの 入れとくとですねみんなのなんかあの話をですね円滑に進めてくれるなんか会議の 感じみたいな 合コンの感じとかですねバラエティテレビのですね昼間のバラエアたりさわりのない ことしか言わねえ コメンテーターっていうかまあ mc ですねあの話を回す mc さんとかこういったものってのはもう一発で この gpt 4レベルになるともう聞かえられてくるんじゃないかなというふうに思って ますさらに今短期記憶レベルで言うと まあ人間の子供ぐらいの短期規約レベルまではもう到達していると思うんであとは そのお金を払ってですね専用のメモリースペースっていうものをですね 作ってあげると長期記憶にある程度その短期記憶を残すようにすればですね もしかするとですね完全にこれ もう人間ある程度忘れる能力まで全部入れて実装すると 一つの人格作れるんじゃないかなというふうに思います今ちょっと利用料金が高くて ですね gpt 4 東京あたりの課金になってるわけですけれどもこれ普通に例えば1分間 そうですね30秒に1回ぐらいレスポンスをするずーっと会話を1日中し続ける みたいな絵を20時間365日会話し続けると月々300万ぐらいかかるって試算もあったり するんで まだまだ利用料金高いんですけれどもこれもですねあのどんどんどんどん安くなってくるでしょう 今日 科学競争も起きてくると思いますあのグーグルがですね もともとこのオープン ai のですね gpt のまああの研究のもとになったというか トランスフォーマーとかバートとかこういったですね テクノロジーもともとグーグルとかでも研究されてたもので グーグルは堅くなにですねまぁ自分たちの検索エンジンビジネスモデル 広告ベースの検索エンジンビジネスモデルが脅かされるという懸念と まあもう一つはですねこれ本当に人間と区別しがつかなくなって犯罪であったりヘイト スピーチだったりとかですね世論操作こういったものに 悪用される懸念もあってそういったこともあってグーグルはあの公開をなかなか オープンな公開をですね拒んできたっていう歴史があるらしいんですけれどもやっ あの 検索エンジンという屋台骨がね 揺らぎで言います実際のところそのまあ実質的にオープン ai 買収した マイクロソフトはあまりメジャーではないマイクロソフトの便という検索エンジン にこの gpt をですね 実装したところめちゃくちゃ検索回数が上がって業績が伸びてきてるんですねこの便の 部分がなので google もうかうかしてらんないと背に腹をかえられないということで ますますここの競争っていうのはですね激しくなってくるんじゃないかタンッと思っております ということで 今日は gpt 4がですね リリースされたことについて解説させていただきましたどろっしょい ポレーターはみのブログでは言えない話毎週メールマガジンだしております僕のですね 皆さんの質問に対することは全部答えておりますルールさえ守っていただければ全部 答えますのでメールマガジン入ってみてください 月額880円だいたい1週間あたり120円で一問あたり120円で必ず答えるということで ぜひ ドローしちゃっ 雑談プレイは月額1500円で道スパーソンの音声 聞き放題そして動画を見放題ということで ドロッシュ\n"
     ]
    }
   ],
   "source": [
    "print(transcript[\"text\"])"
   ]
  },
  {
   "cell_type": "code",
   "execution_count": 10,
   "id": "b37e86c7",
   "metadata": {},
   "outputs": [
    {
     "name": "stdout",
     "output_type": "stream",
     "text": [
      "\"The comedian who creates a company for tax purposes is lame. I'm not saying it's bad, but I just think it's lame. Well, to be honest, I haven't created a company for tax purposes. But most comedians, almost all of them, have created a company for tax purposes. Especially those who earn a lot of money, it's just lame. I'm not saying it's bad to create a company for tax purposes, but it's just lame. You can manage almost everything if you just create a company for tax purposes, which is quite convenient. However, if you're not making enough money to benefit from creating a company for tax purposes, then it's a different story. I often hear about the benefits of creating a company from various tax accountants. For example, if a person has an annual income of 100 million yen, and after subtracting expenses, the net income is also 100 million yen, the tax rate for personal income tax and resident tax is up to 55%. That means the profit is about 50 million yen. On the other hand, if a person creates their own company and becomes the shareholder and president, the tax rate for the company's profit is around 30 to 33%. If the person has a significant amount of savings and sets their director compensation to zero, the tax would be around 30 million yen. If the person sets their annual income to 20 million yen for their living expenses, the tax would be up to 30%. Either way, it could save up to approximately 20 million yen in tax. But for those who create a company for tax purposes and only earn a small income, it might not be worth creating a company for tax purposes. Anyway, back to the topic, there are many situations where the benefits of creating a company for tax purposes can be seen. However, if you're creating a company for tax purposes and complaining about taxes, then it's just hypocritical. Even if you complain, you\n"
     ]
    }
   ],
   "source": [
    "# 推論\n",
    "response = openai.ChatCompletion.create(\n",
    "  model=\"gpt-3.5-turbo\",\n",
    "  messages=[\n",
    "    {\"role\": \"system\", \"content\": \"あなたは日本語を英語に翻訳するアシスタントです。\"},\n",
    "    {\"role\": \"user\", \"content\": '以下の日本語のテキストを英語に翻訳してください: “{0}\"'.format(transcript[\"text\"])}\n",
    "  ]\n",
    ")\n",
    "print(response[\"choices\"][0][\"message\"][\"content\"])"
   ]
  },
  {
   "cell_type": "code",
   "execution_count": null,
   "id": "5928c38a",
   "metadata": {},
   "outputs": [],
   "source": []
  }
 ],
 "metadata": {
  "kernelspec": {
   "display_name": "Python 3 (ipykernel)",
   "language": "python",
   "name": "python3"
  },
  "language_info": {
   "codemirror_mode": {
    "name": "ipython",
    "version": 3
   },
   "file_extension": ".py",
   "mimetype": "text/x-python",
   "name": "python",
   "nbconvert_exporter": "python",
   "pygments_lexer": "ipython3",
   "version": "3.11.2"
  }
 },
 "nbformat": 4,
 "nbformat_minor": 5
}
