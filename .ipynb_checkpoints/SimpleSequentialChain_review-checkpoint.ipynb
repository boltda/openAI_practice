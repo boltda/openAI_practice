{
 "cells": [
  {
   "cell_type": "code",
   "execution_count": 1,
   "id": "972a7b14",
   "metadata": {},
   "outputs": [],
   "source": [
    "from langchain.llms import OpenAI\n",
    "from langchain.chains import LLMChain\n",
    "from langchain.prompts import PromptTemplate"
   ]
  },
  {
   "cell_type": "code",
   "execution_count": null,
   "id": "b374708d",
   "metadata": {},
   "outputs": [],
   "source": [
    "def create_text(iText):\n",
    "    quality =0\n",
    "    llm = OpenAI(temperature=1)\n",
    "    oText= lim(iText)\n",
    "    while check_quality(outputText)<0.5:\n",
    "        text = update_text(theme, review)\n",
    "        review_how_to_fix = review_text(text)\n",
    "        print(text)\n",
    "        print(review_how_to_fix)\n",
    "    return review"
   ]
  },
  {
   "cell_type": "code",
   "execution_count": null,
   "id": "35a8512e",
   "metadata": {},
   "outputs": [],
   "source": [
    "from langchain.agents import initialize_agent, Tool\n",
    "from langchain.llms import OpenAI\n",
    "from langchain import LLMMathChain, SerpAPIWrapper\n",
    "def checkQuality(text):\n",
    "    text ='0から1までの数（小数点あり）でこの文を評価してください'\n",
    "    search = SerpAPIWrapper(serpapi_api_key='9be46c822744dca7130534a5faaa19be145f821bacf836affdeee4add96c38ae')\n",
    "    tools = [\n",
    "        Tool(\n",
    "            name = \"Search\",\n",
    "            func=search.run,\n",
    "            description=\"useful for when you need to answer questions about current events\"\n",
    "        )\n",
    "    ]\n",
    "    llm = OpenAI(temperature=0)\n",
    "    agent = initialize_agent(tools, llm, agent=\"zero-shot-react-description\", verbose=True)\n",
    "    agent.run(\"text\")\n",
    "    "
   ]
  },
  {
   "cell_type": "code",
   "execution_count": 8,
   "id": "11fa319e",
   "metadata": {},
   "outputs": [],
   "source": [
    "# 1つ目のチェーンの準備 : 劇のタイトルからあらすじを生成\n",
    "\n",
    "# LLMの準備\n",
    "llm = OpenAI(temperature=1)\n",
    "\n",
    "# テンプレートの準備\n",
    "template = \"\"\"あなたは{country}出身です。初めてこの国に来る人向けに、この国特有の慣習や常識、文化的タブーをいくつか教えてあげてください。\"\"\"\n",
    "\n",
    "create_text()\n",
    "\n",
    "# プロンプトテンプレートの準備\n",
    "prompt_template = PromptTemplate(\n",
    "    input_variables=[\"country\"], \n",
    "    template=template\n",
    ")\n",
    "\n",
    "# LLMChainの準備\n",
    "synopsis_chain = LLMChain(llm=llm, prompt=prompt_template)"
   ]
  },
  {
   "cell_type": "code",
   "execution_count": 9,
   "id": "e331950d",
   "metadata": {},
   "outputs": [],
   "source": [
    "# 2つ目のチェーン : 劇のあらすじからレビューを生成\n",
    "\n",
    "# LLMの準備準備\n",
    "llm = OpenAI(temperature=0)\n",
    "\n",
    "# テンプレートの準備\n",
    "template = \"\"\"あなたもこの国の出身です。慣習を与えられたら間違っていることや追加して言ったほうが良いことがあったら言ってあげてください。\n",
    "\n",
    "慣習:{habit}\n",
    "\"\"\"\n",
    "\n",
    "# プロンプトテンプレートの準備\n",
    "prompt_template = PromptTemplate(\n",
    "    input_variables=[\"habit\"], \n",
    "    template=template\n",
    ")\n",
    "\n",
    "# LLMChainの準備\n",
    "review_chain = LLMChain(llm=llm, prompt=prompt_template)"
   ]
  },
  {
   "cell_type": "code",
   "execution_count": 10,
   "id": "e4a9f3c1",
   "metadata": {},
   "outputs": [],
   "source": [
    "from langchain.chains import SimpleSequentialChain\n",
    "\n",
    "# SimpleSequentialChainで2つのチェーンを繋ぐ\n",
    "overall_chain = SimpleSequentialChain(\n",
    "    chains=[synopsis_chain, review_chain], \n",
    "    verbose=True\n",
    ")"
   ]
  },
  {
   "cell_type": "code",
   "execution_count": 12,
   "id": "826aefb6",
   "metadata": {},
   "outputs": [
    {
     "name": "stdout",
     "output_type": "stream",
     "text": [
      "\n",
      "\n",
      "\u001b[1m> Entering new SimpleSequentialChain chain...\u001b[0m\n",
      "\u001b[36;1m\u001b[1;3m\n",
      "\n",
      "1. 礼儀作法：礼儀正しい挨拶を忘れないようにしましょう。特に、お礼やお願いには「お願いします」という言葉を使うのが一般的です。\n",
      "\n",
      "2. ジェスチャー：特に日本語を話せない外国人にとって難しいのが、ジェスチャーです。例えば、手を合わせて言葉を照らすのは、締め込みを表しますが、日本人にとってはあくまでも、礼儀の一つというイメージなので注意しましょう。\n",
      "\n",
      "3\u001b[0m\n",
      "\u001b[33;1m\u001b[1;3m言葉遣い：言葉遣いには気をつけましょう。特に、外国人に対しては、丁寧な言葉遣いを心がけるようにしましょう。\u001b[0m\n",
      "\n",
      "\u001b[1m> Finished chain.\u001b[0m\n"
     ]
    }
   ],
   "source": [
    "# SimpleSequentialChainの実行\n",
    "review = overall_chain.run(\"日本\")"
   ]
  },
  {
   "cell_type": "code",
   "execution_count": null,
   "id": "ba7cf637",
   "metadata": {},
   "outputs": [],
   "source": []
  }
 ],
 "metadata": {
  "kernelspec": {
   "display_name": "Python 3 (ipykernel)",
   "language": "python",
   "name": "python3"
  },
  "language_info": {
   "codemirror_mode": {
    "name": "ipython",
    "version": 3
   },
   "file_extension": ".py",
   "mimetype": "text/x-python",
   "name": "python",
   "nbconvert_exporter": "python",
   "pygments_lexer": "ipython3",
   "version": "3.11.2"
  }
 },
 "nbformat": 4,
 "nbformat_minor": 5
}
