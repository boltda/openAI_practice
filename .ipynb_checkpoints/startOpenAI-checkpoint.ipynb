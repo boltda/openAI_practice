{
 "cells": [
  {
   "cell_type": "code",
   "execution_count": 5,
   "id": "4aac216f",
   "metadata": {},
   "outputs": [],
   "source": [
    "import openai\n",
    "import os\n",
    "from langchain.llms import OpenAI\n",
    "openai.api_key = os.getenv(\"OPENAI_API_KEY\")\n",
    "# print(os.environ)\n",
    "# print(os.environ[\"OPENAI_API_KEY\"] )\n",
    "# print(openai.api_key)"
   ]
  },
  {
   "cell_type": "code",
   "execution_count": 2,
   "id": "93296e50",
   "metadata": {},
   "outputs": [
    {
     "name": "stdout",
     "output_type": "stream",
     "text": [
      "いくつかのポイントをまとめると以下のようになります。\n",
      "\n",
      "- 大谷翔平は、日本のプロ野球選手で、現在はアメリカのメジャーリーグベースボール（MLB）のロサンゼルス・エンゼルスに所属しています。\n",
      "- 大谷は、投手としても打者としても活躍することができる「二刀流」として知られており、同時に両方のポジションでメジャーリーグでの活躍を続けています。\n",
      "- 大谷は、2013年にプロ野球選手としてデビューし、その後2017年にアメリカに渡ってメジャーリーグのエンゼルスに入団しました。\n",
      "- 大谷は、2018年には新人王を受賞し、2019年にはオールスターゲームに初出場するなど、その実力が認められています。\n",
      "- 大谷は、投手としては最速101マイルのストレートを投げ、打者としてもパワーと技術を兼ね備えています。\n",
      "- 大谷には、アジアの野球ファンから熱狂的な支持があり、彼の試合は日本、韓国、中国などの国々でも積極的に放送されています。\n"
     ]
    }
   ],
   "source": [
    "response = openai.ChatCompletion.create(\n",
    "    model=\"gpt-3.5-turbo\",\n",
    "    messages=[\n",
    "        {\"role\": \"user\", \"content\": \"大谷翔平について教えて\"},\n",
    "    ],\n",
    ")\n",
    "print(response.choices[0][\"message\"][\"content\"].strip())"
   ]
  },
  {
   "cell_type": "code",
   "execution_count": 6,
   "id": "00fb5654",
   "metadata": {},
   "outputs": [],
   "source": [
    "# モデル名を指定しない場合、「text-davinci-003」が利用されます\n",
    "llm = OpenAI(temperature=0.9)\n",
    "text = \"技術記事のタイトルをよしなに生成してくれるAIの名称を考えてください。\""
   ]
  },
  {
   "cell_type": "code",
   "execution_count": 2,
   "id": "b5c80285",
   "metadata": {},
   "outputs": [
    {
     "ename": "ValidationError",
     "evalue": "1 validation error for OpenAI\n__root__\n  Did not find openai_api_key, please add an environment variable `OPENAI_API_KEY` which contains it, or pass  `openai_api_key` as a named parameter. (type=value_error)",
     "output_type": "error",
     "traceback": [
      "\u001b[0;31m---------------------------------------------------------------------------\u001b[0m",
      "\u001b[0;31mValidationError\u001b[0m                           Traceback (most recent call last)",
      "Cell \u001b[0;32mIn[2], line 3\u001b[0m\n\u001b[1;32m      1\u001b[0m openai\u001b[38;5;241m.\u001b[39mapi_key \u001b[38;5;241m=\u001b[39m os\u001b[38;5;241m.\u001b[39mgetenv(\u001b[38;5;124m\"\u001b[39m\u001b[38;5;124mOPENAI_API_KEY\u001b[39m\u001b[38;5;124m\"\u001b[39m)\n\u001b[0;32m----> 3\u001b[0m llm \u001b[38;5;241m=\u001b[39m \u001b[43mOpenAI\u001b[49m\u001b[43m(\u001b[49m\u001b[43mtemperature\u001b[49m\u001b[38;5;241;43m=\u001b[39;49m\u001b[38;5;241;43m0.9\u001b[39;49m\u001b[43m)\u001b[49m\n\u001b[1;32m      5\u001b[0m text \u001b[38;5;241m=\u001b[39m \u001b[38;5;124m\"\u001b[39m\u001b[38;5;124mWhat would be a good company name a company that makes colorful socks?\u001b[39m\u001b[38;5;124m\"\u001b[39m\n\u001b[1;32m      6\u001b[0m \u001b[38;5;28mprint\u001b[39m(llm(text))\n",
      "File \u001b[0;32m/usr/local/lib/python3.11/site-packages/pydantic/main.py:341\u001b[0m, in \u001b[0;36mpydantic.main.BaseModel.__init__\u001b[0;34m()\u001b[0m\n",
      "\u001b[0;31mValidationError\u001b[0m: 1 validation error for OpenAI\n__root__\n  Did not find openai_api_key, please add an environment variable `OPENAI_API_KEY` which contains it, or pass  `openai_api_key` as a named parameter. (type=value_error)"
     ]
    }
   ],
   "source": [
    "llm = OpenAI(temperature=0.9)\n",
    "text = \"What would be a good company name a company that makes colorful socks?\"\n",
    "print(llm(text))"
   ]
  }
 ],
 "metadata": {
  "kernelspec": {
   "display_name": "Python 3 (ipykernel)",
   "language": "python",
   "name": "python3"
  },
  "language_info": {
   "codemirror_mode": {
    "name": "ipython",
    "version": 3
   },
   "file_extension": ".py",
   "mimetype": "text/x-python",
   "name": "python",
   "nbconvert_exporter": "python",
   "pygments_lexer": "ipython3",
   "version": "3.11.2"
  }
 },
 "nbformat": 4,
 "nbformat_minor": 5
}
