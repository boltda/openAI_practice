{
 "cells": [
  {
   "cell_type": "code",
   "execution_count": 1,
   "id": "972a7b14",
   "metadata": {},
   "outputs": [],
   "source": [
    "from langchain.llms import OpenAI\n",
    "from langchain.chains import LLMChain\n",
    "from langchain.prompts import PromptTemplate"
   ]
  },
  {
   "cell_type": "code",
   "execution_count": 2,
   "id": "11fa319e",
   "metadata": {},
   "outputs": [
    {
     "ename": "NameError",
     "evalue": "name 'create_text' is not defined",
     "output_type": "error",
     "traceback": [
      "\u001b[0;31m---------------------------------------------------------------------------\u001b[0m",
      "\u001b[0;31mNameError\u001b[0m                                 Traceback (most recent call last)",
      "Cell \u001b[0;32mIn[2], line 9\u001b[0m\n\u001b[1;32m      6\u001b[0m \u001b[38;5;66;03m# テンプレートの準備\u001b[39;00m\n\u001b[1;32m      7\u001b[0m template \u001b[38;5;241m=\u001b[39m \u001b[38;5;124m\"\"\"\u001b[39m\u001b[38;5;124mあなたは\u001b[39m\u001b[38;5;132;01m{country}\u001b[39;00m\u001b[38;5;124m出身です。初めてこの国に来る人向けに、この国特有の慣習や常識、文化的タブーをいくつか教えてあげてください。\u001b[39m\u001b[38;5;124m\"\"\"\u001b[39m\n\u001b[0;32m----> 9\u001b[0m \u001b[43mcreate_text\u001b[49m()\n\u001b[1;32m     11\u001b[0m \u001b[38;5;66;03m# プロンプトテンプレートの準備\u001b[39;00m\n\u001b[1;32m     12\u001b[0m prompt_template \u001b[38;5;241m=\u001b[39m PromptTemplate(\n\u001b[1;32m     13\u001b[0m     input_variables\u001b[38;5;241m=\u001b[39m[\u001b[38;5;124m\"\u001b[39m\u001b[38;5;124mcountry\u001b[39m\u001b[38;5;124m\"\u001b[39m], \n\u001b[1;32m     14\u001b[0m     template\u001b[38;5;241m=\u001b[39mtemplate\n\u001b[1;32m     15\u001b[0m )\n",
      "\u001b[0;31mNameError\u001b[0m: name 'create_text' is not defined"
     ]
    }
   ],
   "source": [
    "# 1つ目のチェーンの準備 : 劇のタイトルからあらすじを生成\n",
    "\n",
    "# LLMの準備\n",
    "llm = OpenAI(temperature=1)\n",
    "\n",
    "# テンプレートの準備\n",
    "template = \"\"\"あなたは{country}出身です。初めてこの国に来る人向けに、この国特有の慣習や常識、文化的タブーをいくつか教えてあげてください。\"\"\"\n",
    "\n",
    "# プロンプトテンプレートの準備\n",
    "prompt_template = PromptTemplate(\n",
    "    input_variables=[\"country\"], \n",
    "    template=template\n",
    ")\n",
    "\n",
    "# LLMChainの準備\n",
    "synopsis_chain = LLMChain(llm=llm, prompt=prompt_template)"
   ]
  },
  {
   "cell_type": "code",
   "execution_count": null,
   "id": "e331950d",
   "metadata": {},
   "outputs": [],
   "source": [
    "# 2つ目のチェーン : 劇のあらすじからレビューを生成\n",
    "\n",
    "# LLMの準備準備\n",
    "llm = OpenAI(temperature=0)\n",
    "\n",
    "# テンプレートの準備\n",
    "template = \"\"\"あなたもこの国の出身です。慣習を与えられたら間違っていることや追加して言ったほうが良いことがあったら言ってあげてください。\n",
    "\n",
    "慣習:{habit}\n",
    "\"\"\"\n",
    "\n",
    "# プロンプトテンプレートの準備\n",
    "prompt_template = PromptTemplate(\n",
    "    input_variables=[\"habit\"], \n",
    "    template=template\n",
    ")\n",
    "\n",
    "# LLMChainの準備\n",
    "review_chain = LLMChain(llm=llm, prompt=prompt_template)"
   ]
  },
  {
   "cell_type": "code",
   "execution_count": null,
   "id": "e4a9f3c1",
   "metadata": {},
   "outputs": [],
   "source": [
    "from langchain.chains import SimpleSequentialChain\n",
    "\n",
    "# SimpleSequentialChainで2つのチェーンを繋ぐ\n",
    "overall_chain = SimpleSequentialChain(\n",
    "    chains=[synopsis_chain, review_chain], \n",
    "    verbose=True\n",
    ")"
   ]
  },
  {
   "cell_type": "code",
   "execution_count": null,
   "id": "826aefb6",
   "metadata": {},
   "outputs": [],
   "source": [
    "# SimpleSequentialChainの実行\n",
    "review = overall_chain.run(\"日本\")"
   ]
  },
  {
   "cell_type": "code",
   "execution_count": null,
   "id": "6f142613",
   "metadata": {},
   "outputs": [],
   "source": []
  }
 ],
 "metadata": {
  "kernelspec": {
   "display_name": "Python 3 (ipykernel)",
   "language": "python",
   "name": "python3"
  },
  "language_info": {
   "codemirror_mode": {
    "name": "ipython",
    "version": 3
   },
   "file_extension": ".py",
   "mimetype": "text/x-python",
   "name": "python",
   "nbconvert_exporter": "python",
   "pygments_lexer": "ipython3",
   "version": "3.11.2"
  }
 },
 "nbformat": 4,
 "nbformat_minor": 5
}
